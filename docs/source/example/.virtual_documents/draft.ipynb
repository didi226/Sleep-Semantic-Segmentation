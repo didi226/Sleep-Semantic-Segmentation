import mne
import yasa
import numpy as np
import matplotlib.pyplot as plt
import seaborn as sns
sns.set(font_scale=1.2)


# Load the EDF file
raw = mne.io.read_raw_edf('SC4001E0-PSG.edf', preload=True)
raw.filter(0.1, 40)
raw.plot()
data = raw.get_data(['EEG Fpz-Cz', 'EEG Pz-Oz'],units="uV")
print(data.shape)
sf=100


sp = yasa.spindles_detect(data, sf)
sp.summary()


# Let's get a bool vector indicating for each sample
mask = sp.get_mask()
mask


# Now let's plot
spindles_highlight = data * mask
spindles_highlight[spindles_highlight == 0] = np.nan

# plt.figure(figsize=(14, 4))
# plt.plot(times, data, 'k')
# plt.plot(times, spindles_highlight, 'indianred')
# plt.xlabel('Time (seconds)')
# plt.ylabel('Amplitude (uV)')
# plt.xlim([0, times[-1]])
# plt.title('N2 sleep EEG data (2 spindles detected)')
# sns.despine()
# plt.savefig('detection.png', dpi=300, bbox_inches='tight')


import pandas as pd
b = [['andy', 1, 10],
    ['bob', 2, 20],
    ['charlie', 3, 30]] 
dfdf = pd.DataFrame(b)
dfdf.columns = ['Name', 'Number', 'Age']
dfdf['Place'] = 50
dfdf = dfdf.astype(object)
dfdf.loc[0,'Place'] = [1, 2]






