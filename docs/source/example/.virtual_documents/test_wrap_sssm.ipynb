


import mne
import yasa
import os
import numpy as np
import matplotlib.pyplot as plt
import seaborn as sns
from wrap_sssm.detection.detection import sleep_event_detect
sns.set(font_scale=1)
get_ipython().run_line_magic("matplotlib", " inline")





# os.chdir(r"D:\code_cloud\new_eeg_deep\scut_eeg_dl\wrap_sssm\notebookes")
raw = mne.io.read_raw_edf('../../../notebookes/SC4001E0-PSG.edf', preload=True)





raw.filter(0.1, 40)
data = raw.get_data(['EEG Fpz-Cz'], units="uV")
sf = 100
data = data[:,:50000]


# Define sampling frequency and time vector
times = np.arange(data.shape[-1]) / sf

# Plot the signal
fig, ax = plt.subplots(1, 1, figsize=(7, 2))
plt.plot(times, data[0,:], lw=1.5, color='k')
plt.xlabel('Time (seconds)')
plt.ylabel('Amplitude (uV)')
plt.xlim([times.min(), times.max()])
plt.title('500s sleep EEG data')
sns.despine()





# Apply the detection using sss sleep_event_detect
sp = sleep_event_detect(data, sf)


# Display the results using .summary()
sp.summary()





sp.summary('Sawtooth')





get_ipython().run_line_magic("matplotlib", " widget")
sp.plot_detection(event_type=['Sawtooth'],figsize=(5, 4))





figure = sp.plot_average(event_type=['Sawtooth'],figsize=(5, 3))
plt.show()





sp = sleep_event_detect(data, sf,verbose='info')
sp.summary()



