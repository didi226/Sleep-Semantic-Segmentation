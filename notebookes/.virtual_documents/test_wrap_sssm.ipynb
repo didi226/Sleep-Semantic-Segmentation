import unittest
import mne
import yasa
import os
import numpy as np
import matplotlib.pyplot as plt
import seaborn as sns
os.chdir(r"D:\code_cloud\new_eeg_deep\scut_eeg_dl\wrap_sssm\src\wrap_sssm")
from detection import sleep_event_detect
sns.set(font_scale=1.2)
# %matplotlib widget
# %matplotlib inline
get_ipython().run_line_magic("matplotlib", " widget")


os.chdir(r"D:\code_cloud\new_eeg_deep\scut_eeg_dl\wrap_sssm\notebookes")
raw = mne.io.read_raw_edf('SC4001E0-PSG.edf', preload=True)
raw.filter(0.1, 40)
data = raw.get_data(['EEG Fpz-Cz'], units="uV").astype(np.float16)
sf = 100
sp = sleep_event_detect(data[:,:50000], sf)


sp.summary()
print(sp.summary())


sp.plot_detection(event_type=['K-complex'])


figure = sp.plot_average(event_type=['Sawtooth'])
plt.show()



